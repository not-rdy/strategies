{
 "cells": [
  {
   "cell_type": "code",
   "execution_count": 1,
   "metadata": {},
   "outputs": [],
   "source": [
    "import sys\n",
    "sys.path.append('/home/rustem/projs/strategies')\n",
    "\n",
    "import pandas as pd\n",
    "import matplotlib.pyplot as plt\n",
    "from src.utils import TradingSystem\n",
    "from tqdm import tqdm"
   ]
  },
  {
   "cell_type": "code",
   "execution_count": 2,
   "metadata": {},
   "outputs": [
    {
     "name": "stderr",
     "output_type": "stream",
     "text": [
      "100%|██████████| 500/500 [00:02<00:00, 191.74it/s]\n"
     ]
    }
   ],
   "source": [
    "params = {\n",
    "    'ma_window_width': 5,\n",
    "    'q_std_rolling_width': 20,\n",
    "    'sigma_coeff_for_SL': 0.1,\n",
    "    'q': .8,\n",
    "    'q_window_width': 20\n",
    "}\n",
    "ts = TradingSystem(**params)\n",
    "\n",
    "df = pd.read_csv(\n",
    "    '/home/rustem/projs/strategies/data/raw/BTC-USDT.csv',\n",
    "    index_col=0)[['ts', 'o', 'h', 'l', 'c', 'vol']].sort_values(by='ts')\n",
    "\n",
    "rows_list = []\n",
    "history = 43\n",
    "indices = range(0, df.shape[0] - history)[:500]\n",
    "for i in tqdm(indices, total=len(indices)):\n",
    "    data = df.iloc[i:i+history]\n",
    "\n",
    "    signal = ts.get_signal(data)\n",
    "    sl = ts.get_stoploss()\n",
    "    is_reached_sl = ts.reached_sl()\n",
    "    profit = ts.profit()\n",
    "\n",
    "    last = data.iloc[-1].copy()\n",
    "    last['signal'] = signal\n",
    "    last['sl'] = sl\n",
    "    last['is_reached_sl'] = is_reached_sl\n",
    "    last['profit'] = profit\n",
    "    rows_list.append(last.to_dict())"
   ]
  },
  {
   "cell_type": "code",
   "execution_count": 3,
   "metadata": {},
   "outputs": [],
   "source": [
    "df = pd.DataFrame(rows_list)"
   ]
  }
 ],
 "metadata": {
  "kernelspec": {
   "display_name": "tcs",
   "language": "python",
   "name": "python3"
  },
  "language_info": {
   "codemirror_mode": {
    "name": "ipython",
    "version": 3
   },
   "file_extension": ".py",
   "mimetype": "text/x-python",
   "name": "python",
   "nbconvert_exporter": "python",
   "pygments_lexer": "ipython3",
   "version": "3.9.16"
  },
  "orig_nbformat": 4
 },
 "nbformat": 4,
 "nbformat_minor": 2
}
