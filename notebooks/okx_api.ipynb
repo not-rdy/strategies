{
 "cells": [
  {
   "cell_type": "code",
   "execution_count": 2,
   "metadata": {},
   "outputs": [],
   "source": [
    "api_key = \"f26af287-9f8b-437b-9b9a-4f9ae394c7bc\"\n",
    "secret_key = \"58C81180A58BAF76F9A506DDE9F70C6E\"\n",
    "passphrase = \"Audacesfortunakuvatrr22121991!\"\n",
    "flag = '1' # live: 0, demo: 1"
   ]
  },
  {
   "cell_type": "code",
   "execution_count": null,
   "metadata": {},
   "outputs": [],
   "source": [
    "# баланс\n",
    "import okx.Account as Account\n",
    "\n",
    "accountAPI = Account.AccountAPI(api_key, secret_key, passphrase, False, flag)\n",
    "result = accountAPI.get_account_balance()\n",
    "result"
   ]
  },
  {
   "cell_type": "code",
   "execution_count": null,
   "metadata": {},
   "outputs": [],
   "source": [
    "# данные\n",
    "import okx.MarketData as MarketData\n",
    "\n",
    "marketDataAPI = MarketData.MarketAPI(flag=flag)\n",
    "marketDataAPI.get_ticker(instId='BTC-USDT')"
   ]
  },
  {
   "cell_type": "code",
   "execution_count": 24,
   "metadata": {},
   "outputs": [
    {
     "name": "stdout",
     "output_type": "stream",
     "text": [
      "body:  {\"instId\": \"BTC-USDT\", \"tdMode\": \"cash\", \"side\": \"buy\", \"ordType\": \"limit\", \"sz\": \"0.01\", \"ccy\": \"\", \"clOrdId\": \"\", \"tag\": \"\", \"posSide\": \"\", \"px\": \"19000\", \"reduceOnly\": \"\", \"tgtCcy\": \"base_ccy\", \"tpTriggerPx\": \"\", \"tpOrdPx\": \"\", \"slTriggerPx\": \"\", \"slOrdPx\": \"\", \"tpTriggerPxType\": \"\", \"slTriggerPxType\": \"\", \"quickMgnType\": \"\", \"stpId\": \"\", \"stpMode\": \"\"}\n",
      "header:  {'Content-Type': 'application/json', 'OK-ACCESS-KEY': 'f26af287-9f8b-437b-9b9a-4f9ae394c7bc', 'OK-ACCESS-SIGN': b'1Lqb+ZwAgmm+c5c09FGTbwKJvdkGqDQhs/LBaGJ8nho=', 'OK-ACCESS-TIMESTAMP': '2023-08-29T14:53:32.008Z', 'OK-ACCESS-PASSPHRASE': 'Audacesfortunakuvatrr22121991!', 'x-simulated-trading': '1'}\n",
      "domain: https://www.okx.com\n",
      "url: /api/v5/trade/order\n",
      "Successful order request, order_id = 616767421940088832\n"
     ]
    }
   ],
   "source": [
    "# выставление лимитного ордера на покупку 0.01 BTC когда он достигнет цены 19000 USDT\n",
    "\n",
    "import okx.Trade as Trade\n",
    "tradeAPI = Trade.TradeAPI(api_key, secret_key, passphrase, False, flag)\n",
    "result = tradeAPI.place_order(\n",
    "    instId='BTC-USDT',\n",
    "    tdMode='cash',\n",
    "    side='buy',\n",
    "    ordType='limit',\n",
    "    px='19000',\n",
    "    sz='0.01',\n",
    "    tgtCcy='base_ccy'\n",
    ")\n",
    "if result['code'] == '0':\n",
    "    print(f\"Successful order request, order_id = {result['data'][0]['ordId']}\")\n",
    "else:\n",
    "    print(\n",
    "        f\"\"\"\n",
    "        Unsuccessful order request,\n",
    "        Error_code = {result['data'][0]['sCode']},\n",
    "        Error_message = {result['data'][0]['sMsg']}\"\"\"\n",
    "        )"
   ]
  },
  {
   "cell_type": "code",
   "execution_count": 29,
   "metadata": {},
   "outputs": [
    {
     "name": "stdout",
     "output_type": "stream",
     "text": [
      "body:  {\"instId\": \"BTC-USDT\", \"tdMode\": \"cash\", \"side\": \"sell\", \"ordType\": \"limit\", \"sz\": \"0.01\", \"ccy\": \"\", \"clOrdId\": \"\", \"tag\": \"\", \"posSide\": \"\", \"px\": \"30000\", \"reduceOnly\": \"\", \"tgtCcy\": \"base_ccy\", \"tpTriggerPx\": \"\", \"tpOrdPx\": \"\", \"slTriggerPx\": \"\", \"slOrdPx\": \"\", \"tpTriggerPxType\": \"\", \"slTriggerPxType\": \"\", \"quickMgnType\": \"\", \"stpId\": \"\", \"stpMode\": \"\"}\n",
      "header:  {'Content-Type': 'application/json', 'OK-ACCESS-KEY': 'f26af287-9f8b-437b-9b9a-4f9ae394c7bc', 'OK-ACCESS-SIGN': b'3xYz2h6VvRSmG60R3XkWsDgrRfSgj1rf12vs/DJfOCs=', 'OK-ACCESS-TIMESTAMP': '2023-08-29T15:08:41.542Z', 'OK-ACCESS-PASSPHRASE': 'Audacesfortunakuvatrr22121991!', 'x-simulated-trading': '1'}\n",
      "domain: https://www.okx.com\n",
      "url: /api/v5/trade/order\n",
      "Successful order request, order_id = 616771236802179083\n"
     ]
    }
   ],
   "source": [
    "# выставление лимитного ордера на продажу 0.01 BTC когда он достигнет цены 30000 USDT\n",
    "\n",
    "import okx.Trade as Trade\n",
    "tradeAPI = Trade.TradeAPI(api_key, secret_key, passphrase, False, flag)\n",
    "result = tradeAPI.place_order(\n",
    "    instId='BTC-USDT',\n",
    "    tdMode='cash',\n",
    "    side='sell',\n",
    "    ordType='limit',\n",
    "    px='30000',\n",
    "    sz='0.01',\n",
    "    tgtCcy='base_ccy'\n",
    ")\n",
    "if result['code'] == '0':\n",
    "    print(f\"Successful order request, order_id = {result['data'][0]['ordId']}\")\n",
    "else:\n",
    "    print(\n",
    "        f\"\"\"\n",
    "        Unsuccessful order request,\n",
    "        Error_code = {result['data'][0]['sCode']},\n",
    "        Error_message = {result['data'][0]['sMsg']}\"\"\"\n",
    "        )"
   ]
  },
  {
   "cell_type": "code",
   "execution_count": null,
   "metadata": {},
   "outputs": [],
   "source": [
    "# детальная информация по ордеру\n",
    "tradeAPI.get_order(instId='BTC-USDT', ordId='616771236802179083')"
   ]
  },
  {
   "cell_type": "code",
   "execution_count": 31,
   "metadata": {},
   "outputs": [
    {
     "name": "stdout",
     "output_type": "stream",
     "text": [
      "body:  {\"instId\": \"BTC-USDT\", \"ordId\": \"616771236802179083\", \"clOrdId\": \"\"}\n",
      "header:  {'Content-Type': 'application/json', 'OK-ACCESS-KEY': 'f26af287-9f8b-437b-9b9a-4f9ae394c7bc', 'OK-ACCESS-SIGN': b'yIu4hOfHCW4fNUuKThiI4no3sv3qIaOFHeMwQHNwlSA=', 'OK-ACCESS-TIMESTAMP': '2023-08-29T15:09:40.942Z', 'OK-ACCESS-PASSPHRASE': 'Audacesfortunakuvatrr22121991!', 'x-simulated-trading': '1'}\n",
      "domain: https://www.okx.com\n",
      "url: /api/v5/trade/cancel-order\n"
     ]
    },
    {
     "data": {
      "text/plain": [
       "{'code': '0',\n",
       " 'data': [{'clOrdId': '',\n",
       "   'ordId': '616771236802179083',\n",
       "   'sCode': '0',\n",
       "   'sMsg': ''}],\n",
       " 'msg': ''}"
      ]
     },
     "execution_count": 31,
     "metadata": {},
     "output_type": "execute_result"
    }
   ],
   "source": [
    "# отменить ордер\n",
    "tradeAPI.cancel_order(instId='BTC-USDT', ordId='616771236802179083')"
   ]
  }
 ],
 "metadata": {
  "kernelspec": {
   "display_name": "tcs",
   "language": "python",
   "name": "python3"
  },
  "language_info": {
   "codemirror_mode": {
    "name": "ipython",
    "version": 3
   },
   "file_extension": ".py",
   "mimetype": "text/x-python",
   "name": "python",
   "nbconvert_exporter": "python",
   "pygments_lexer": "ipython3",
   "version": "3.9.16"
  },
  "orig_nbformat": 4
 },
 "nbformat": 4,
 "nbformat_minor": 2
}
